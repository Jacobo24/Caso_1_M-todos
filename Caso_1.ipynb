{
 "cells": [
  {
   "cell_type": "markdown",
   "metadata": {},
   "source": [
    "# Análisis de Modelos de Estado para el Metano\n",
    "\n",
    "## 1. Introducción\n",
    "\n",
    "Se proporciona una serie de tablas con valores de presión ($P$) y volumen específico ($V$) del metano a distintas temperaturas constantes ($T$). Cada tabla contiene puntos discretos. En el fichero Excel adjunto se encuentran los valores de presión en MPa y volumen en m³/kg a diferentes temperaturas.\n",
    "\n",
    "Uno de los objetivos es obtener el valor de $V$ dadas unas condiciones donde $P$ y $V$ no son constantes. Para ello, se desea utilizar dos ecuaciones de estado de los gases reales.\n",
    "\n",
    "## 2. Ecuaciones de Estado de los Gases Reales\n",
    "\n",
    "### 2.1 Ecuación de Peng-Robinson\n",
    "\n",
    "La ecuación de Peng-Robinson es una ecuación de estado cúbica, ampliamente utilizada en termodinámica de fluidos para modelar el comportamiento de gases y líquidos. Su forma general es:\n",
    "\n",
    "$$\n",
    "P = \\frac{RT}{V - b} - \\frac{a}{V^2 + 2bV - b^2}\n",
    "$$\n",
    "\n",
    "Donde la constante $a$ se calcula como:\n",
    "\n",
    "$$\n",
    "a = 0.4572 \\cdot \\frac{R^2 T_c^2}{P_c} \\cdot \\alpha(T_r, \\omega)\n",
    "$$\n",
    "\n",
    "$$\n",
    "\\alpha(T_r, \\omega) = 0.4572 \\cdot \\frac{R^2 T_c^2}{P_c} \\cdot \\left[1 + k(1 - \\sqrt{T/T_c})\\right]\n",
    "$$\n",
    "\n",
    "$$\n",
    "k = 0.37 + 1.5\\omega - 0.26\\omega^2\n",
    "$$\n",
    "\n",
    "$$\n",
    "b = 0.077 \\cdot \\frac{RT_c}{P_c}\n",
    "$$\n",
    "\n",
    "Para el metano, los valores críticos y el factor acéntrico son:\n",
    "\n",
    "- **Temperatura crítica:** $T_c = 190.56$ K\n",
    "- **Presión crítica:** $P_c = 4.59$ MPa\n",
    "- **Volumen crítico:** $V_c = 98.6$ cm³/mol\n",
    "- **Factor acéntrico:** $\\omega = 0.011$\n",
    "\n",
    "### 2.2 Ecuación del Virial\n",
    "\n",
    "La ecuación del virial es una expansión en series de la ecuación de estado de un gas real en términos del volumen molar:\n",
    "\n",
    "$$\n",
    "Z = \\frac{PV}{RT} = 1 + \\frac{B(T)}{V} + \\frac{C(T)}{V^2} + \\dots\n",
    "$$\n",
    "\n",
    "Donde $B(T)$ y $C(T)$ son los coeficientes de Virial. El primero se puede aproximar mediante:\n",
    "\n",
    "$$\n",
    "B(T) = -0.199 + 0.20 \\cdot \\exp\\left(\\frac{-1131}{T^2}\\right)\n",
    "$$\n",
    "\n",
    "El coeficiente $C(T)$ es muy complejo de obtener experimentalmente.\n",
    "\n",
    "## 3. Problemas a Resolver"
   ]
  },
  {
   "cell_type": "markdown",
   "metadata": {},
   "source": [
    "### 3.1 Interpolación y regresión\n",
    "\n",
    "- Realizar gráficas de interpolación polinomial y regresión de los puntos $PV$ que mejor se ajusten al caso.\n",
    "- Identificar la mejor curva para resolver el problema."
   ]
  },
  {
   "cell_type": "code",
   "execution_count": 2,
   "metadata": {},
   "outputs": [],
   "source": [
    "import pandas as pd\n",
    "import numpy as np\n",
    "\n",
    "# leer el excel\n",
    "df = pd.read_excel('Caso_1.xlsx')\n"
   ]
  },
  {
   "cell_type": "code",
   "execution_count": 3,
   "metadata": {},
   "outputs": [
    {
     "ename": "KeyError",
     "evalue": "'T (K)'",
     "output_type": "error",
     "traceback": [
      "\u001b[1;31m---------------------------------------------------------------------------\u001b[0m",
      "\u001b[1;31mKeyError\u001b[0m                                  Traceback (most recent call last)",
      "File \u001b[1;32m~\\AppData\\Local\\Packages\\PythonSoftwareFoundation.Python.3.10_qbz5n2kfra8p0\\LocalCache\\local-packages\\Python310\\site-packages\\pandas\\core\\indexes\\base.py:3652\u001b[0m, in \u001b[0;36mIndex.get_loc\u001b[1;34m(self, key)\u001b[0m\n\u001b[0;32m   3651\u001b[0m \u001b[38;5;28;01mtry\u001b[39;00m:\n\u001b[1;32m-> 3652\u001b[0m     \u001b[38;5;28;01mreturn\u001b[39;00m \u001b[38;5;28;43mself\u001b[39;49m\u001b[38;5;241;43m.\u001b[39;49m\u001b[43m_engine\u001b[49m\u001b[38;5;241;43m.\u001b[39;49m\u001b[43mget_loc\u001b[49m\u001b[43m(\u001b[49m\u001b[43mcasted_key\u001b[49m\u001b[43m)\u001b[49m\n\u001b[0;32m   3653\u001b[0m \u001b[38;5;28;01mexcept\u001b[39;00m \u001b[38;5;167;01mKeyError\u001b[39;00m \u001b[38;5;28;01mas\u001b[39;00m err:\n",
      "File \u001b[1;32m~\\AppData\\Local\\Packages\\PythonSoftwareFoundation.Python.3.10_qbz5n2kfra8p0\\LocalCache\\local-packages\\Python310\\site-packages\\pandas\\_libs\\index.pyx:147\u001b[0m, in \u001b[0;36mpandas._libs.index.IndexEngine.get_loc\u001b[1;34m()\u001b[0m\n",
      "File \u001b[1;32m~\\AppData\\Local\\Packages\\PythonSoftwareFoundation.Python.3.10_qbz5n2kfra8p0\\LocalCache\\local-packages\\Python310\\site-packages\\pandas\\_libs\\index.pyx:176\u001b[0m, in \u001b[0;36mpandas._libs.index.IndexEngine.get_loc\u001b[1;34m()\u001b[0m\n",
      "File \u001b[1;32mpandas\\_libs\\hashtable_class_helper.pxi:7080\u001b[0m, in \u001b[0;36mpandas._libs.hashtable.PyObjectHashTable.get_item\u001b[1;34m()\u001b[0m\n",
      "File \u001b[1;32mpandas\\_libs\\hashtable_class_helper.pxi:7088\u001b[0m, in \u001b[0;36mpandas._libs.hashtable.PyObjectHashTable.get_item\u001b[1;34m()\u001b[0m\n",
      "\u001b[1;31mKeyError\u001b[0m: 'T (K)'",
      "\nThe above exception was the direct cause of the following exception:\n",
      "\u001b[1;31mKeyError\u001b[0m                                  Traceback (most recent call last)",
      "Cell \u001b[1;32mIn[3], line 6\u001b[0m\n\u001b[0;32m      3\u001b[0m \u001b[38;5;28;01mimport\u001b[39;00m \u001b[38;5;21;01mmatplotlib\u001b[39;00m\u001b[38;5;21;01m.\u001b[39;00m\u001b[38;5;21;01mpyplot\u001b[39;00m \u001b[38;5;28;01mas\u001b[39;00m \u001b[38;5;21;01mplt\u001b[39;00m\n\u001b[0;32m      5\u001b[0m \u001b[38;5;66;03m# Supongamos que tidy_df ya está disponible\u001b[39;00m\n\u001b[1;32m----> 6\u001b[0m temperaturas \u001b[38;5;241m=\u001b[39m \u001b[43mdf\u001b[49m\u001b[43m[\u001b[49m\u001b[38;5;124;43m\"\u001b[39;49m\u001b[38;5;124;43mT (K)\u001b[39;49m\u001b[38;5;124;43m\"\u001b[39;49m\u001b[43m]\u001b[49m\u001b[38;5;241m.\u001b[39munique()\n\u001b[0;32m      7\u001b[0m temperaturas \u001b[38;5;241m=\u001b[39m \u001b[38;5;28msorted\u001b[39m(temperaturas)\n\u001b[0;32m      9\u001b[0m \u001b[38;5;66;03m# Función para calcular R^2\u001b[39;00m\n",
      "File \u001b[1;32m~\\AppData\\Local\\Packages\\PythonSoftwareFoundation.Python.3.10_qbz5n2kfra8p0\\LocalCache\\local-packages\\Python310\\site-packages\\pandas\\core\\frame.py:3761\u001b[0m, in \u001b[0;36mDataFrame.__getitem__\u001b[1;34m(self, key)\u001b[0m\n\u001b[0;32m   3759\u001b[0m \u001b[38;5;28;01mif\u001b[39;00m \u001b[38;5;28mself\u001b[39m\u001b[38;5;241m.\u001b[39mcolumns\u001b[38;5;241m.\u001b[39mnlevels \u001b[38;5;241m>\u001b[39m \u001b[38;5;241m1\u001b[39m:\n\u001b[0;32m   3760\u001b[0m     \u001b[38;5;28;01mreturn\u001b[39;00m \u001b[38;5;28mself\u001b[39m\u001b[38;5;241m.\u001b[39m_getitem_multilevel(key)\n\u001b[1;32m-> 3761\u001b[0m indexer \u001b[38;5;241m=\u001b[39m \u001b[38;5;28;43mself\u001b[39;49m\u001b[38;5;241;43m.\u001b[39;49m\u001b[43mcolumns\u001b[49m\u001b[38;5;241;43m.\u001b[39;49m\u001b[43mget_loc\u001b[49m\u001b[43m(\u001b[49m\u001b[43mkey\u001b[49m\u001b[43m)\u001b[49m\n\u001b[0;32m   3762\u001b[0m \u001b[38;5;28;01mif\u001b[39;00m is_integer(indexer):\n\u001b[0;32m   3763\u001b[0m     indexer \u001b[38;5;241m=\u001b[39m [indexer]\n",
      "File \u001b[1;32m~\\AppData\\Local\\Packages\\PythonSoftwareFoundation.Python.3.10_qbz5n2kfra8p0\\LocalCache\\local-packages\\Python310\\site-packages\\pandas\\core\\indexes\\base.py:3654\u001b[0m, in \u001b[0;36mIndex.get_loc\u001b[1;34m(self, key)\u001b[0m\n\u001b[0;32m   3652\u001b[0m     \u001b[38;5;28;01mreturn\u001b[39;00m \u001b[38;5;28mself\u001b[39m\u001b[38;5;241m.\u001b[39m_engine\u001b[38;5;241m.\u001b[39mget_loc(casted_key)\n\u001b[0;32m   3653\u001b[0m \u001b[38;5;28;01mexcept\u001b[39;00m \u001b[38;5;167;01mKeyError\u001b[39;00m \u001b[38;5;28;01mas\u001b[39;00m err:\n\u001b[1;32m-> 3654\u001b[0m     \u001b[38;5;28;01mraise\u001b[39;00m \u001b[38;5;167;01mKeyError\u001b[39;00m(key) \u001b[38;5;28;01mfrom\u001b[39;00m \u001b[38;5;21;01merr\u001b[39;00m\n\u001b[0;32m   3655\u001b[0m \u001b[38;5;28;01mexcept\u001b[39;00m \u001b[38;5;167;01mTypeError\u001b[39;00m:\n\u001b[0;32m   3656\u001b[0m     \u001b[38;5;66;03m# If we have a listlike key, _check_indexing_error will raise\u001b[39;00m\n\u001b[0;32m   3657\u001b[0m     \u001b[38;5;66;03m#  InvalidIndexError. Otherwise we fall through and re-raise\u001b[39;00m\n\u001b[0;32m   3658\u001b[0m     \u001b[38;5;66;03m#  the TypeError.\u001b[39;00m\n\u001b[0;32m   3659\u001b[0m     \u001b[38;5;28mself\u001b[39m\u001b[38;5;241m.\u001b[39m_check_indexing_error(key)\n",
      "\u001b[1;31mKeyError\u001b[0m: 'T (K)'"
     ]
    }
   ],
   "source": [
    "import numpy as np\n",
    "import pandas as pd\n",
    "import matplotlib.pyplot as plt\n",
    "\n",
    "# Supongamos que tidy_df ya está disponible\n",
    "temperaturas = df[\"T (K)\"].unique()\n",
    "temperaturas = sorted(temperaturas)\n",
    "\n",
    "# Función para calcular R^2\n",
    "def r_squared(y_true, y_pred):\n",
    "    ss_res = np.sum((y_true - y_pred)**2)\n",
    "    ss_tot = np.sum((y_true - np.mean(y_true))**2)\n",
    "    return 1 - ss_res/ss_tot"
   ]
  },
  {
   "cell_type": "code",
   "execution_count": null,
   "metadata": {},
   "outputs": [],
   "source": [
    "polynomial_degrees = [1, 2, 3]\n",
    "\n",
    "# Almacenaremos resultados en una lista para luego analizarlos\n",
    "results = []\n",
    "\n",
    "for T in temperaturas:\n",
    "    subset = tidy_df[tidy_df[\"T (K)\"] == T]\n",
    "    P_vals = subset[\"P (MPa)\"].values\n",
    "    V_vals = subset[\"V (m³/kg)\"].values\n",
    "    \n",
    "    # Ordenamos por P ascendente (útil para graficar)\n",
    "    sort_idx = np.argsort(P_vals)\n",
    "    P_vals = P_vals[sort_idx]\n",
    "    V_vals = V_vals[sort_idx]\n",
    "    \n",
    "    # Rango de presiones para graficar la curva ajustada\n",
    "    P_fine = np.linspace(P_vals.min(), P_vals.max(), 100)\n",
    "    \n",
    "    fig, ax = plt.subplots(figsize=(6,4))\n",
    "    ax.scatter(P_vals, V_vals, label=\"Datos experimentales\", color=\"black\", marker=\"o\")\n",
    "    \n",
    "    best_r2 = -np.inf\n",
    "    best_degree = None\n",
    "    best_fit_curve = None\n",
    "    \n",
    "    for deg in polynomial_degrees:\n",
    "        # Ajuste polinomial: V = a0 + a1*P + a2*P^2 + ...\n",
    "        coeffs = np.polyfit(P_vals, V_vals, deg)\n",
    "        # Calculamos predicción sobre los puntos originales (para R^2)\n",
    "        V_pred = np.polyval(coeffs, P_vals)\n",
    "        current_r2 = r_squared(V_vals, V_pred)\n",
    "        \n",
    "        # Graficamos la curva en P_fine\n",
    "        V_fine = np.polyval(coeffs, P_fine)\n",
    "        ax.plot(P_fine, V_fine, label=f\"Grado {deg}, R²={current_r2:.4f}\")\n",
    "        \n",
    "        # Guardamos el mejor ajuste para este T\n",
    "        if current_r2 > best_r2:\n",
    "            best_r2 = current_r2\n",
    "            best_degree = deg\n",
    "            best_fit_curve = coeffs\n",
    "    \n",
    "    ax.set_title(f\"T = {T} K: Ajustes polinomiales\")\n",
    "    ax.set_xlabel(\"Presión (MPa)\")\n",
    "    ax.set_ylabel(\"Volumen específico (m³/kg)\")\n",
    "    ax.legend()\n",
    "    plt.tight_layout()\n",
    "    plt.show()\n",
    "    \n",
    "    # Almacenar información del mejor ajuste\n",
    "    results.append({\n",
    "        \"Temperatura\": T,\n",
    "        \"Mejor grado polinomial\": best_degree,\n",
    "        \"R^2\": best_r2,\n",
    "        \"Coeficientes\": best_fit_curve\n",
    "    })"
   ]
  },
  {
   "cell_type": "code",
   "execution_count": null,
   "metadata": {},
   "outputs": [],
   "source": [
    "for r in results:\n",
    "    print(f\"T = {r['Temperatura']} K\")\n",
    "    print(f\"  Mejor grado polinomial: {r['Mejor grado polinomial']}\")\n",
    "    print(f\"  R^2 = {r['R^2']:.4f}\")\n",
    "    print(f\"  Coeficientes (mayor grado a menor): {r['Coeficientes']}\\n\")"
   ]
  },
  {
   "cell_type": "markdown",
   "metadata": {},
   "source": [
    "### 3.2 Interpolación de Hermite\n",
    "\n",
    "- Representar la función $V = f(T)$ mediante interpolación de Hermite.\n",
    "- Considerar que la primera derivada $dV/dT = 0.019$ m³/kg·K a una temperatura $T = 300$ K y un volumen específico de $4.1$ m³/kg."
   ]
  },
  {
   "cell_type": "markdown",
   "metadata": {},
   "source": [
    "### 3.3 Validación de la Ecuación de Peng-Robinson\n",
    "\n",
    "- Analizar si la curva interpolada en la sección **3.1** se ajusta a la ecuación de Peng-Robinson.\n",
    "- Resolver la ecuación para cada punto $P$ y calcular el error cometido.\n",
    "- Elaborar un diagrama de flujo explicando el procedimiento para resolver esta cuestión.\n",
    "- Realizar el análisis únicamente para $T = 250$ K con un error mínimo de $0.001$."
   ]
  },
  {
   "cell_type": "markdown",
   "metadata": {},
   "source": [
    "### 3.4 Estimación del Coeficiente de Virial\n",
    "\n",
    "- Utilizando los datos del punto **3.2** y considerando una presión constante de 1 MPa, determinar la temperatura $T$ para la cual el coeficiente de Virial es $6 \\times 10^{-4}$ m$^6$/Kg$^2$.\n",
    "- Calcular el número de iteraciones necesarias para un error de $0.01$, $0.001$ y $10^{-10}$."
   ]
  },
  {
   "cell_type": "markdown",
   "metadata": {},
   "source": [
    "### 3.5 Comparación de Estimaciones del Coeficiente de Virial\n",
    "\n",
    "- Repetir el cálculo del punto **3.4** para los valores $10^{-4}$ m$^6$/Kg$^2$ y $8.5 \\times 10^{-4}$ m$^6$/Kg$^2$ con un error de $0.001$.\n",
    "- Graficar los resultados obtenidos."
   ]
  }
 ],
 "metadata": {
  "kernelspec": {
   "display_name": "Python 3",
   "language": "python",
   "name": "python3"
  },
  "language_info": {
   "codemirror_mode": {
    "name": "ipython",
    "version": 3
   },
   "file_extension": ".py",
   "mimetype": "text/x-python",
   "name": "python",
   "nbconvert_exporter": "python",
   "pygments_lexer": "ipython3",
   "version": "3.10.11"
  }
 },
 "nbformat": 4,
 "nbformat_minor": 2
}
