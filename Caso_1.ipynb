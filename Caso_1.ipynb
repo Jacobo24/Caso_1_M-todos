{
 "cells": [
  {
   "cell_type": "markdown",
   "metadata": {},
   "source": [
    "# Análisis de Modelos de Estado para el Metano\n",
    "\n",
    "## 1. Introducción\n",
    "\n",
    "Se proporciona una serie de tablas con valores de presión ($P$) y volumen específico ($V$) del metano a distintas temperaturas constantes ($T$). Cada tabla contiene puntos discretos. En el fichero Excel adjunto se encuentran los valores de presión en MPa y volumen en m³/kg a diferentes temperaturas.\n",
    "\n",
    "Uno de los objetivos es obtener el valor de $V$ dadas unas condiciones donde $P$ y $V$ no son constantes. Para ello, se desea utilizar dos ecuaciones de estado de los gases reales.\n",
    "\n",
    "## 2. Ecuaciones de Estado de los Gases Reales\n",
    "\n",
    "### 2.1 Ecuación de Peng-Robinson\n",
    "\n",
    "La ecuación de Peng-Robinson es una ecuación de estado cúbica, ampliamente utilizada en termodinámica de fluidos para modelar el comportamiento de gases y líquidos. Su forma general es:\n",
    "\n",
    "$$\n",
    "P = \\frac{RT}{V - b} - \\frac{a}{V^2 + 2bV - b^2}\n",
    "$$\n",
    "\n",
    "Donde la constante $a$ se calcula como:\n",
    "\n",
    "$$\n",
    "a = 0.4572 \\cdot \\frac{R^2 T_c^2}{P_c} \\cdot \\alpha(T_r, \\omega)\n",
    "$$\n",
    "\n",
    "$$\n",
    "\\alpha(T_r, \\omega) = 0.4572 \\cdot \\frac{R^2 T_c^2}{P_c} \\cdot \\left[1 + k(1 - \\sqrt{T/T_c})\\right]\n",
    "$$\n",
    "\n",
    "$$\n",
    "k = 0.37 + 1.5\\omega - 0.26\\omega^2\n",
    "$$\n",
    "\n",
    "$$\n",
    "b = 0.077 \\cdot \\frac{RT_c}{P_c}\n",
    "$$\n",
    "\n",
    "Para el metano, los valores críticos y el factor acéntrico son:\n",
    "\n",
    "- **Temperatura crítica:** $T_c = 190.56$ K\n",
    "- **Presión crítica:** $P_c = 4.59$ MPa\n",
    "- **Volumen crítico:** $V_c = 98.6$ cm³/mol\n",
    "- **Factor acéntrico:** $\\omega = 0.011$\n",
    "\n",
    "### 2.2 Ecuación del Virial\n",
    "\n",
    "La ecuación del virial es una expansión en series de la ecuación de estado de un gas real en términos del volumen molar:\n",
    "\n",
    "$$\n",
    "Z = \\frac{PV}{RT} = 1 + \\frac{B(T)}{V} + \\frac{C(T)}{V^2} + \\dots\n",
    "$$\n",
    "\n",
    "Donde $B(T)$ y $C(T)$ son los coeficientes de Virial. El primero se puede aproximar mediante:\n",
    "\n",
    "$$\n",
    "B(T) = -0.199 + 0.20 \\cdot \\exp\\left(\\frac{-1131}{T^2}\\right)\n",
    "$$\n",
    "\n",
    "El coeficiente $C(T)$ es muy complejo de obtener experimentalmente.\n",
    "\n",
    "## 3. Problemas a Resolver"
   ]
  },
  {
   "cell_type": "markdown",
   "metadata": {},
   "source": [
    "### 3.1 Interpolación y regresión\n",
    "\n",
    "- Realizar gráficas de interpolación polinomial y regresión de los puntos $PV$ que mejor se ajusten al caso.\n",
    "- Identificar la mejor curva para resolver el problema."
   ]
  },
  {
   "cell_type": "code",
   "execution_count": null,
   "metadata": {
    "vscode": {
     "languageId": "plaintext"
    }
   },
   "outputs": [],
   "source": []
  },
  {
   "cell_type": "markdown",
   "metadata": {},
   "source": [
    "### 3.2 Interpolación de Hermite\n",
    "\n",
    "- Representar la función $V = f(T)$ mediante interpolación de Hermite.\n",
    "- Considerar que la primera derivada $dV/dT = 0.019$ m³/kg·K a una temperatura $T = 300$ K y un volumen específico de $4.1$ m³/kg."
   ]
  },
  {
   "cell_type": "markdown",
   "metadata": {},
   "source": [
    "### 3.3 Validación de la Ecuación de Peng-Robinson\n",
    "\n",
    "- Analizar si la curva interpolada en la sección **3.1** se ajusta a la ecuación de Peng-Robinson.\n",
    "- Resolver la ecuación para cada punto $P$ y calcular el error cometido.\n",
    "- Elaborar un diagrama de flujo explicando el procedimiento para resolver esta cuestión.\n",
    "- Realizar el análisis únicamente para $T = 250$ K con un error mínimo de $0.001$."
   ]
  },
  {
   "cell_type": "markdown",
   "metadata": {},
   "source": [
    "### 3.4 Estimación del Coeficiente de Virial\n",
    "\n",
    "- Utilizando los datos del punto **3.2** y considerando una presión constante de 1 MPa, determinar la temperatura $T$ para la cual el coeficiente de Virial es $6 \\times 10^{-4}$ m$^6$/Kg$^2$.\n",
    "- Calcular el número de iteraciones necesarias para un error de $0.01$, $0.001$ y $10^{-10}$."
   ]
  },
  {
   "cell_type": "markdown",
   "metadata": {},
   "source": [
    "### 3.5 Comparación de Estimaciones del Coeficiente de Virial\n",
    "\n",
    "- Repetir el cálculo del punto **3.4** para los valores $10^{-4}$ m$^6$/Kg$^2$ y $8.5 \\times 10^{-4}$ m$^6$/Kg$^2$ con un error de $0.001$.\n",
    "- Graficar los resultados obtenidos."
   ]
  }
 ],
 "metadata": {
  "language_info": {
   "name": "python"
  }
 },
 "nbformat": 4,
 "nbformat_minor": 2
}
